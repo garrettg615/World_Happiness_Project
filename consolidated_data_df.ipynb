{
 "cells": [
  {
   "cell_type": "code",
   "execution_count": 1,
   "metadata": {},
   "outputs": [
    {
     "name": "stdout",
     "output_type": "stream",
     "text": [
      "importing Jupyter notebook from Garrett_notebook.ipynb\n",
      "importing Jupyter notebook from Mike_notebook.ipynb\n"
     ]
    }
   ],
   "source": [
    "import pandas as pd\n",
    "import scipy.stats as st\n",
    "import matplotlib.pyplot as plt\n",
    "from sklearn import linear_model\n",
    "import import_ipynb\n",
    "from Garrett_notebook import scatter_graph\n",
    "from Mike_notebook import bubble1\n",
    "from Mike_notebook import bubble2"
   ]
  },
  {
   "cell_type": "code",
   "execution_count": 2,
   "metadata": {},
   "outputs": [],
   "source": [
    "## Import all clean data\n",
    "gov_corruption_df = pd.read_csv('clean data/cpi_2019.csv')\n",
    "generosity_df = pd.read_csv('clean data/global_generosity_score.csv')\n",
    "human_freedom_df = pd.read_csv('clean data/hf_score.csv')\n",
    "life_expectancy_df = pd.read_csv('clean data/lifeexp.csv')\n",
    "education_df = pd.read_csv('clean data/clean_edu.csv')\n",
    "gdp_df = pd.read_csv('clean data/Updated_GDP.csv')\n",
    "happy_df = pd.read_csv('clean data/happy_score.csv')"
   ]
  },
  {
   "cell_type": "code",
   "execution_count": 3,
   "metadata": {},
   "outputs": [],
   "source": [
    "## Clean up happy score dataframe for merge\n",
    "happy_df = happy_df.rename(columns={'Country or region':'Country','Score':'Happiness Score'})\n",
    "#happy_df"
   ]
  },
  {
   "cell_type": "code",
   "execution_count": 4,
   "metadata": {},
   "outputs": [],
   "source": [
    "## Clean up generosity dataframe for merge\n",
    "generosity_df = generosity_df.drop('Unnamed: 0',axis=1)\n",
    "clean_gen_df = generosity_df.rename(columns={'country':'Country','overallScore':'Generosity Score'})\n",
    "clean_gen_df = clean_gen_df.sort_values('Country')\n",
    "clean_gen_df = clean_gen_df.reset_index(drop=True)\n",
    "#clean_gen_df"
   ]
  },
  {
   "cell_type": "code",
   "execution_count": 5,
   "metadata": {},
   "outputs": [],
   "source": [
    "## Clean up corruption dataframe for merge\n",
    "clean_corrupt_df = gov_corruption_df.sort_values('Country')\n",
    "clean_corrupt_df = clean_corrupt_df.reset_index(drop=True)\n",
    "#clean_corrupt_df"
   ]
  },
  {
   "cell_type": "code",
   "execution_count": 6,
   "metadata": {},
   "outputs": [],
   "source": [
    "## Clean up gdp dataframe for merge\n",
    "gdp_df = gdp_df.rename(columns={'Country Name':'Country','Country Code':'Region','2019':\"GDP (in 100s)\"})\n",
    "gdp_df = gdp_df[['Country',\"GDP (in 100s)\"]]\n",
    "#gdp_df\n"
   ]
  },
  {
   "cell_type": "code",
   "execution_count": 7,
   "metadata": {},
   "outputs": [],
   "source": [
    "## Clean up freedom dataframe for merge\n",
    "human_freedom_df = human_freedom_df.rename(columns={'countries':'Country','region':'Region','hf_score':'Human Freedom Score'})\n",
    "#human_freedom_df"
   ]
  },
  {
   "cell_type": "code",
   "execution_count": 8,
   "metadata": {},
   "outputs": [],
   "source": [
    "## Clean up education dataframe for merge\n",
    "education_df = education_df.rename(columns={'Data Source':'Country','Rate':'Education'})\n",
    "#education_df"
   ]
  },
  {
   "cell_type": "code",
   "execution_count": 9,
   "metadata": {},
   "outputs": [],
   "source": [
    "## merge dataframes into final data frame for analysis\n",
    "merge_1 = pd.merge(clean_corrupt_df,clean_gen_df,how='outer',on='Country')\n",
    "merge_2 = pd.merge(merge_1,human_freedom_df,how='outer',on='Country')\n",
    "merge_3 = pd.merge(merge_2,life_expectancy_df,how='outer',on='Country')\n",
    "merge_4 = pd.merge(merge_3,education_df,how='outer',on='Country')\n",
    "merge_5 = pd.merge(merge_4,gdp_df,how='outer',on='Country')\n",
    "final_data_df = pd.merge(merge_5,happy_df,how='outer',on='Country')\n"
   ]
  },
  {
   "cell_type": "code",
   "execution_count": 10,
   "metadata": {},
   "outputs": [],
   "source": [
    "## rename dataframe\n",
    "final_data_df = final_data_df[['Country','Region','Happiness Score','CPI score 2019','Generosity Score',\n",
    "                               'Human Freedom Score','Life Expectancy','Education','GDP (in 100s)']]\n",
    "final_data_df = final_data_df.dropna(axis=0,how='any')\n",
    "final_data_df = final_data_df.reset_index(drop=True)"
   ]
  },
  {
   "cell_type": "code",
   "execution_count": 11,
   "metadata": {},
   "outputs": [
    {
     "data": {
      "text/html": [
       "<div>\n",
       "<style scoped>\n",
       "    .dataframe tbody tr th:only-of-type {\n",
       "        vertical-align: middle;\n",
       "    }\n",
       "\n",
       "    .dataframe tbody tr th {\n",
       "        vertical-align: top;\n",
       "    }\n",
       "\n",
       "    .dataframe thead th {\n",
       "        text-align: right;\n",
       "    }\n",
       "</style>\n",
       "<table border=\"1\" class=\"dataframe\">\n",
       "  <thead>\n",
       "    <tr style=\"text-align: right;\">\n",
       "      <th></th>\n",
       "      <th>Country</th>\n",
       "      <th>Region</th>\n",
       "      <th>Happiness Score</th>\n",
       "      <th>CPI score 2019</th>\n",
       "      <th>Generosity Score</th>\n",
       "      <th>Human Freedom Score</th>\n",
       "      <th>Life Expectancy</th>\n",
       "      <th>Education</th>\n",
       "      <th>GDP (in 100s)</th>\n",
       "    </tr>\n",
       "  </thead>\n",
       "  <tbody>\n",
       "    <tr>\n",
       "      <th>0</th>\n",
       "      <td>Albania</td>\n",
       "      <td>ECA</td>\n",
       "      <td>4.719</td>\n",
       "      <td>35.0</td>\n",
       "      <td>23.0</td>\n",
       "      <td>7.81</td>\n",
       "      <td>78.0</td>\n",
       "      <td>94.153337</td>\n",
       "      <td>5353.244856</td>\n",
       "    </tr>\n",
       "    <tr>\n",
       "      <th>1</th>\n",
       "      <td>Argentina</td>\n",
       "      <td>AME</td>\n",
       "      <td>6.086</td>\n",
       "      <td>45.0</td>\n",
       "      <td>28.0</td>\n",
       "      <td>7.05</td>\n",
       "      <td>76.6</td>\n",
       "      <td>89.302147</td>\n",
       "      <td>9912.281809</td>\n",
       "    </tr>\n",
       "    <tr>\n",
       "      <th>2</th>\n",
       "      <td>Armenia</td>\n",
       "      <td>ECA</td>\n",
       "      <td>4.559</td>\n",
       "      <td>42.0</td>\n",
       "      <td>21.0</td>\n",
       "      <td>7.69</td>\n",
       "      <td>76.0</td>\n",
       "      <td>90.511539</td>\n",
       "      <td>4622.733493</td>\n",
       "    </tr>\n",
       "    <tr>\n",
       "      <th>3</th>\n",
       "      <td>Austria</td>\n",
       "      <td>WE/EU</td>\n",
       "      <td>7.246</td>\n",
       "      <td>77.0</td>\n",
       "      <td>45.0</td>\n",
       "      <td>8.45</td>\n",
       "      <td>81.6</td>\n",
       "      <td>97.130831</td>\n",
       "      <td>50137.662776</td>\n",
       "    </tr>\n",
       "    <tr>\n",
       "      <th>4</th>\n",
       "      <td>Azerbaijan</td>\n",
       "      <td>ECA</td>\n",
       "      <td>5.208</td>\n",
       "      <td>30.0</td>\n",
       "      <td>24.0</td>\n",
       "      <td>6.29</td>\n",
       "      <td>71.4</td>\n",
       "      <td>86.941317</td>\n",
       "      <td>4793.587020</td>\n",
       "    </tr>\n",
       "    <tr>\n",
       "      <th>...</th>\n",
       "      <td>...</td>\n",
       "      <td>...</td>\n",
       "      <td>...</td>\n",
       "      <td>...</td>\n",
       "      <td>...</td>\n",
       "      <td>...</td>\n",
       "      <td>...</td>\n",
       "      <td>...</td>\n",
       "      <td>...</td>\n",
       "    </tr>\n",
       "    <tr>\n",
       "      <th>83</th>\n",
       "      <td>Ukraine</td>\n",
       "      <td>ECA</td>\n",
       "      <td>4.332</td>\n",
       "      <td>30.0</td>\n",
       "      <td>24.0</td>\n",
       "      <td>6.45</td>\n",
       "      <td>73.0</td>\n",
       "      <td>96.159267</td>\n",
       "      <td>3659.031312</td>\n",
       "    </tr>\n",
       "    <tr>\n",
       "      <th>84</th>\n",
       "      <td>United Arab Emirates</td>\n",
       "      <td>MENA</td>\n",
       "      <td>6.825</td>\n",
       "      <td>71.0</td>\n",
       "      <td>45.0</td>\n",
       "      <td>6.17</td>\n",
       "      <td>76.1</td>\n",
       "      <td>78.312130</td>\n",
       "      <td>43103.323058</td>\n",
       "    </tr>\n",
       "    <tr>\n",
       "      <th>85</th>\n",
       "      <td>United States</td>\n",
       "      <td>AME</td>\n",
       "      <td>6.892</td>\n",
       "      <td>69.0</td>\n",
       "      <td>58.0</td>\n",
       "      <td>8.44</td>\n",
       "      <td>78.5</td>\n",
       "      <td>104.118214</td>\n",
       "      <td>65297.517508</td>\n",
       "    </tr>\n",
       "    <tr>\n",
       "      <th>86</th>\n",
       "      <td>Zambia</td>\n",
       "      <td>SSA</td>\n",
       "      <td>4.107</td>\n",
       "      <td>34.0</td>\n",
       "      <td>39.0</td>\n",
       "      <td>6.71</td>\n",
       "      <td>62.5</td>\n",
       "      <td>54.768871</td>\n",
       "      <td>1305.063254</td>\n",
       "    </tr>\n",
       "    <tr>\n",
       "      <th>87</th>\n",
       "      <td>Zimbabwe</td>\n",
       "      <td>SSA</td>\n",
       "      <td>3.663</td>\n",
       "      <td>24.0</td>\n",
       "      <td>29.0</td>\n",
       "      <td>5.59</td>\n",
       "      <td>60.7</td>\n",
       "      <td>71.127586</td>\n",
       "      <td>1463.985910</td>\n",
       "    </tr>\n",
       "  </tbody>\n",
       "</table>\n",
       "<p>88 rows × 9 columns</p>\n",
       "</div>"
      ],
      "text/plain": [
       "                 Country Region  Happiness Score  CPI score 2019  \\\n",
       "0                Albania    ECA            4.719            35.0   \n",
       "1              Argentina    AME            6.086            45.0   \n",
       "2                Armenia    ECA            4.559            42.0   \n",
       "3                Austria  WE/EU            7.246            77.0   \n",
       "4             Azerbaijan    ECA            5.208            30.0   \n",
       "..                   ...    ...              ...             ...   \n",
       "83               Ukraine    ECA            4.332            30.0   \n",
       "84  United Arab Emirates   MENA            6.825            71.0   \n",
       "85         United States    AME            6.892            69.0   \n",
       "86                Zambia    SSA            4.107            34.0   \n",
       "87              Zimbabwe    SSA            3.663            24.0   \n",
       "\n",
       "    Generosity Score  Human Freedom Score  Life Expectancy   Education  \\\n",
       "0               23.0                 7.81             78.0   94.153337   \n",
       "1               28.0                 7.05             76.6   89.302147   \n",
       "2               21.0                 7.69             76.0   90.511539   \n",
       "3               45.0                 8.45             81.6   97.130831   \n",
       "4               24.0                 6.29             71.4   86.941317   \n",
       "..               ...                  ...              ...         ...   \n",
       "83              24.0                 6.45             73.0   96.159267   \n",
       "84              45.0                 6.17             76.1   78.312130   \n",
       "85              58.0                 8.44             78.5  104.118214   \n",
       "86              39.0                 6.71             62.5   54.768871   \n",
       "87              29.0                 5.59             60.7   71.127586   \n",
       "\n",
       "    GDP (in 100s)  \n",
       "0     5353.244856  \n",
       "1     9912.281809  \n",
       "2     4622.733493  \n",
       "3    50137.662776  \n",
       "4     4793.587020  \n",
       "..            ...  \n",
       "83    3659.031312  \n",
       "84   43103.323058  \n",
       "85   65297.517508  \n",
       "86    1305.063254  \n",
       "87    1463.985910  \n",
       "\n",
       "[88 rows x 9 columns]"
      ]
     },
     "execution_count": 11,
     "metadata": {},
     "output_type": "execute_result"
    }
   ],
   "source": [
    "#final_data_df['Education'] = final_data_df['Education'].apply(lambda x: \"{:.2f}%\".format((x/1)))\n",
    "#final_data_df['GDP (in 100s)'] = final_data_df['GDP (in 100s)'].apply(lambda x: \"${:.2f}\".format((x/1000)))\n",
    "final_data_df"
   ]
  },
  {
   "cell_type": "code",
   "execution_count": null,
   "metadata": {},
   "outputs": [],
   "source": [
    "## Locate specific Country\n",
    "#usa = final_data_df.loc[final_data_df['Country']=='United States']\n",
    "#usa"
   ]
  },
  {
   "cell_type": "code",
   "execution_count": null,
   "metadata": {},
   "outputs": [],
   "source": [
    "summary_df = final_data_df.describe()\n",
    "summary_df"
   ]
  },
  {
   "cell_type": "code",
   "execution_count": null,
   "metadata": {},
   "outputs": [],
   "source": [
    "region_group_df = final_data_df.groupby('Region').mean()\n",
    "#region_group_df"
   ]
  },
  {
   "cell_type": "code",
   "execution_count": null,
   "metadata": {},
   "outputs": [],
   "source": [
    "## Multiple Regresion Models\n",
    "\n",
    "\n",
    "y = final_data_df['Happiness Score']\n",
    "x = final_data_df[['CPI score 2019','Generosity Score','Human Freedom Score','Life Expectancy','Education','GDP (in 100s)']]\n",
    "\n",
    "regr = linear_model.LinearRegression()\n",
    "regr.fit(x,y)\n",
    "\n",
    "print(regr.coef_)\n",
    "\n"
   ]
  },
  {
   "cell_type": "code",
   "execution_count": null,
   "metadata": {},
   "outputs": [],
   "source": [
    "plt.style.use('Solarize_Light2')\n",
    "#print(plt.style.available)"
   ]
  },
  {
   "cell_type": "code",
   "execution_count": null,
   "metadata": {},
   "outputs": [],
   "source": [
    "x=final_data_df['CPI score 2019']\n",
    "y=final_data_df['Happiness Score']\n",
    "\n",
    "scatter_graph(x,y)"
   ]
  },
  {
   "cell_type": "code",
   "execution_count": null,
   "metadata": {},
   "outputs": [],
   "source": [
    "x=final_data_df['Generosity Score']\n",
    "y=final_data_df['Happiness Score']\n",
    "\n",
    "scatter_graph(x,y)"
   ]
  },
  {
   "cell_type": "code",
   "execution_count": null,
   "metadata": {},
   "outputs": [],
   "source": [
    "x=final_data_df['Human Freedom Score']\n",
    "y=final_data_df['Happiness Score']\n",
    "\n",
    "scatter_graph(x,y)"
   ]
  },
  {
   "cell_type": "code",
   "execution_count": null,
   "metadata": {},
   "outputs": [],
   "source": [
    "x=final_data_df['Life Expectancy']\n",
    "y=final_data_df['Happiness Score']\n",
    "\n",
    "scatter_graph(x,y)"
   ]
  },
  {
   "cell_type": "code",
   "execution_count": null,
   "metadata": {},
   "outputs": [],
   "source": [
    "x=final_data_df['Education']\n",
    "y=final_data_df['Happiness Score']\n",
    "\n",
    "scatter_graph(x,y)\n"
   ]
  },
  {
   "cell_type": "code",
   "execution_count": null,
   "metadata": {},
   "outputs": [],
   "source": [
    "x=final_data_df['GDP (in 100s)']\n",
    "y=final_data_df['Happiness Score']\n",
    "\n",
    "scatter_graph(x,y)"
   ]
  },
  {
   "cell_type": "code",
   "execution_count": 14,
   "metadata": {},
   "outputs": [
    {
     "ename": "NameError",
     "evalue": "name 'final_data_df' is not defined",
     "output_type": "error",
     "traceback": [
      "\u001b[0;31m---------------------------------------------------------------------------\u001b[0m",
      "\u001b[0;31mNameError\u001b[0m                                 Traceback (most recent call last)",
      "\u001b[0;32m<ipython-input-14-57eb51187a59>\u001b[0m in \u001b[0;36m<module>\u001b[0;34m\u001b[0m\n\u001b[0;32m----> 1\u001b[0;31m \u001b[0mbubble1\u001b[0m\u001b[0;34m(\u001b[0m\u001b[0;34m)\u001b[0m\u001b[0;34m\u001b[0m\u001b[0;34m\u001b[0m\u001b[0m\n\u001b[0m",
      "\u001b[0;32m~/Desktop/Project 1/World_Happiness_Project/Mike_notebook.ipynb\u001b[0m in \u001b[0;36mbubble1\u001b[0;34m()\u001b[0m\n",
      "\u001b[0;31mNameError\u001b[0m: name 'final_data_df' is not defined"
     ]
    }
   ],
   "source": [
    "bubble1()"
   ]
  },
  {
   "cell_type": "code",
   "execution_count": null,
   "metadata": {},
   "outputs": [],
   "source": [
    "bubble2()"
   ]
  }
 ],
 "metadata": {
  "kernelspec": {
   "display_name": "Python 3",
   "language": "python",
   "name": "python3"
  },
  "language_info": {
   "codemirror_mode": {
    "name": "ipython",
    "version": 3
   },
   "file_extension": ".py",
   "mimetype": "text/x-python",
   "name": "python",
   "nbconvert_exporter": "python",
   "pygments_lexer": "ipython3",
   "version": "3.8.5"
  }
 },
 "nbformat": 4,
 "nbformat_minor": 4
}
