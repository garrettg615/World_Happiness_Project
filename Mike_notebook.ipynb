{
 "cells": [
  {
   "cell_type": "code",
   "execution_count": null,
   "metadata": {},
   "outputs": [],
   "source": [
    "## Mike Tyburczy Notebook"
   ]
  },
  {
   "cell_type": "code",
   "execution_count": null,
   "metadata": {},
   "outputs": [],
   "source": [
    "def bubble1 ():\n",
    "    \n",
    "    #import plotly for bubble graph\n",
    "    import plotly.express as px\n",
    "    import plotly.graph_objects as go\n",
    "    \n",
    "    #reference data for graph\n",
    "    fig = px.scatter(final_data_df, x='Life Expectancy', y='Human Freedom Score', color='Region',\n",
    "                 size='Happiness Score', hover_name='Country', title=\"Life Expectancy, Human Freedom, and Happiness\")\n",
    "    \n",
    "    #format graph font and font color\n",
    "    fig.update_layout(font_family=\"Courier New\",font_color=\"midnightblue\",title_font_family=\"Times New Roman\",title_font_color=\"dimgrey\",legend_title_font_color=\"dimgrey\")\n",
    "    \n",
    "    #show graph\n",
    "    fig.show()"
   ]
  },
  {
   "cell_type": "code",
   "execution_count": null,
   "metadata": {},
   "outputs": [],
   "source": [
    "def bubble2 ():\n",
    "    \n",
    "    #import plotly for bubble graph\n",
    "    import plotly.express as px\n",
    "    import plotly.graph_objects as go\n",
    "    \n",
    "    #reference data for graph\n",
    "    fig = px.scatter(final_data_df, x='CPI score 2019', y='Generosity Score', color='Region',\n",
    "                 size='Happiness Score', hover_name='Country', title=\"CPI, Generosity, and Happiness\")\n",
    "    \n",
    "    #format graph font and font color\n",
    "    fig.update_layout(font_family=\"Courier New\",font_color=\"midnightblue\",title_font_family=\"Times New Roman\",title_font_color=\"dimgrey\",legend_title_font_color=\"dimgrey\")\n",
    "    \n",
    "    #show graph\n",
    "    fig.show()"
   ]
  }
 ],
 "metadata": {
  "kernelspec": {
   "display_name": "Python 3",
   "language": "python",
   "name": "python3"
  },
  "language_info": {
   "codemirror_mode": {
    "name": "ipython",
    "version": 3
   },
   "file_extension": ".py",
   "mimetype": "text/x-python",
   "name": "python",
   "nbconvert_exporter": "python",
   "pygments_lexer": "ipython3",
   "version": "3.8.5"
  }
 },
 "nbformat": 4,
 "nbformat_minor": 4
}
